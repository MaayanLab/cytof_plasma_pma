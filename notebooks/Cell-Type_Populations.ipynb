{
 "cells": [
  {
   "cell_type": "markdown",
   "metadata": {},
   "source": [
    "# T-test\n",
    "example"
   ]
  },
  {
   "cell_type": "code",
   "execution_count": 67,
   "metadata": {},
   "outputs": [],
   "source": [
    "import numpy as np\n",
    "import pandas as pd\n",
    "from scipy.stats import ttest_ind\n",
    "from collections import Counter"
   ]
  },
  {
   "cell_type": "code",
   "execution_count": null,
   "metadata": {
    "collapsed": true
   },
   "outputs": [],
   "source": [
    "from clustergrammer_widget import *\n",
    "net = Network(clustergrammer_widget)"
   ]
  },
  {
   "cell_type": "code",
   "execution_count": 2,
   "metadata": {},
   "outputs": [
    {
     "name": "stdout",
     "output_type": "stream",
     "text": [
      "ttest_ind:2.81708330972e-07\n"
     ]
    }
   ],
   "source": [
    "np.random.seed(99)\n",
    "\n",
    "# Create sample data.\n",
    "a = np.random.randn(10000)\n",
    "b = np.random.randn(10000) + 0.1\n",
    "\n",
    "# Use scipy.stats.ttest_ind.\n",
    "t, p = ttest_ind(a, b, equal_var=False)\n",
    "\n",
    "print('ttest_ind:' + str(p))"
   ]
  },
  {
   "cell_type": "markdown",
   "metadata": {},
   "source": [
    "# Cell-Type Populations in Plasma and PMA Treated\n",
    "\n",
    "## Load Data"
   ]
  },
  {
   "cell_type": "code",
   "execution_count": 3,
   "metadata": {},
   "outputs": [
    {
     "name": "stdout",
     "output_type": "stream",
     "text": [
      "(110000, 28)\n",
      "(110000, 28)\n"
     ]
    }
   ],
   "source": [
    "# Plasma Treated\n",
    "net.load_file('../cytof_data/Plasma_UCT.txt')\n",
    "net.random_sample(axis='row', num_samples=110000, random_state=99)\n",
    "df_plasma = net.export_df()\n",
    "\n",
    "print(df_plasma.shape)\n",
    "\n",
    "# PMA Treated\n",
    "net.load_file('../cytof_data/PMA_UCT.txt')\n",
    "net.random_sample(axis='row', num_samples=110000, random_state=99)\n",
    "df_pma = net.export_df()\n",
    "\n",
    "print(df_pma.shape)"
   ]
  },
  {
   "cell_type": "markdown",
   "metadata": {},
   "source": [
    "## Randomly Sample Data and Calc Cell-Type Populations"
   ]
  },
  {
   "cell_type": "code",
   "execution_count": 133,
   "metadata": {},
   "outputs": [
    {
     "name": "stdout",
     "output_type": "stream",
     "text": [
      "done\n"
     ]
    }
   ],
   "source": [
    "np.random.seed(99)\n",
    "num_samples = 2000\n",
    "num_runs = 100\n",
    "\n",
    "sampled_counts = {}\n",
    "sampled_counts['plasma'] = {}\n",
    "sampled_counts['pma'] = {}\n",
    "\n",
    "for inst_treatment in ['plasma', 'pma']:\n",
    "    \n",
    "    for i in range(num_runs):\n",
    "\n",
    "        # randomly subsample \n",
    "        random_state = int(np.random.random()*100)    \n",
    "        net.load_df(df_plasma)\n",
    "        net.random_sample(axis='row', num_samples=num_samples, random_state=random_state)\n",
    "        inst_df = net.export_df()\n",
    "        inst_rows = inst_df.index.tolist()\n",
    "\n",
    "        # get cell-types from rows\n",
    "        all_types = [i[2] for i in inst_rows]\n",
    "\n",
    "        types_list = sorted(list(set(all_types)))\n",
    "\n",
    "        # get the counts of all cell types in the subsampled data\n",
    "        inst_counts = Counter(all_types)\n",
    "\n",
    "        for inst_type in inst_counts.keys():\n",
    "\n",
    "            # initialize counts\n",
    "            if inst_type not in sampled_counts[inst_treatment]:\n",
    "                sampled_counts[inst_treatment][inst_type] = []\n",
    "\n",
    "            # append new count\n",
    "            sampled_counts[inst_treatment][inst_type].append( (inst_counts[inst_type]/float(num_samples))*100 )\n",
    "            \n",
    "    # change to numpy array \n",
    "    for inst_type in sampled_counts[inst_treatment]:\n",
    "        sampled_counts[inst_treatment][inst_type] = np.asarray(sampled_counts[inst_treatment][inst_type])\n",
    "    \n",
    "    \n",
    "    \n",
    "print('done')"
   ]
  },
  {
   "cell_type": "code",
   "execution_count": 134,
   "metadata": {},
   "outputs": [
    {
     "name": "stdout",
     "output_type": "stream",
     "text": [
      "6.215\n",
      "0.472995771651\n"
     ]
    }
   ],
   "source": [
    "print(sampled_counts['pma']['B cells'].mean())\n",
    "print(sampled_counts['pma']['B cells'].std())"
   ]
  },
  {
   "cell_type": "code",
   "execution_count": 135,
   "metadata": {},
   "outputs": [
    {
     "name": "stdout",
     "output_type": "stream",
     "text": [
      "6.2155\n",
      "0.56910873302\n"
     ]
    }
   ],
   "source": [
    "print(sampled_counts['plasma']['B cells'].mean())\n",
    "print(sampled_counts['plasma']['B cells'].std())"
   ]
  },
  {
   "cell_type": "markdown",
   "metadata": {},
   "source": [
    "## Calc Stats and Significant Differences Between Plasma and PMA"
   ]
  },
  {
   "cell_type": "code",
   "execution_count": 146,
   "metadata": {},
   "outputs": [
    {
     "name": "stdout",
     "output_type": "stream",
     "text": [
      "NK cells_CD56hi\n",
      "Plasma: 1.085 PMA: 1.1085\n",
      "ttest_ind: 0.427762153249\n",
      "\n",
      "CD4 Tcells\n",
      "Plasma: 23.6305 PMA: 23.6835\n",
      "ttest_ind: 0.696218828586\n",
      "\n",
      "Undefined\n",
      "Plasma: 3.912 PMA: 3.8775\n",
      "ttest_ind: 0.528964347678\n",
      "\n",
      "B cells\n",
      "Plasma: 6.2155 PMA: 6.215\n",
      "ttest_ind: 0.994642994464\n",
      "\n",
      "CD8 Tcells\n",
      "Plasma: 13.8815 PMA: 14.0155\n",
      "ttest_ind: 0.271429925343\n",
      "\n",
      "CD1c DCs\n",
      "Plasma: 2.321 PMA: 2.353\n",
      "ttest_ind: 0.468327298808\n",
      "\n",
      "NK cells_CD16hi_CD57hi\n",
      "Plasma: 5.9635 PMA: 5.8535\n",
      "ttest_ind: 0.108796687434\n",
      "\n",
      "CD4 Tcells_CD161hi\n",
      "Plasma: 3.6075 PMA: 3.607\n",
      "ttest_ind: 0.993150834628\n",
      "\n",
      "NK cells_CD16hi\n",
      "Plasma: 7.826 PMA: 7.857\n",
      "ttest_ind: 0.728304150694\n",
      "\n",
      "CD14hi monocytes\n",
      "Plasma: 8.536 PMA: 8.449\n",
      "ttest_ind: 0.333920750767\n",
      "\n",
      "CD4 Tcells+CD27hi\n",
      "Plasma: 10.9085 PMA: 10.9095\n",
      "ttest_ind: 0.991280263886\n",
      "\n",
      "CD14low monocytes\n",
      "Plasma: 0.5445 PMA: 0.564\n",
      "ttest_ind: 0.475338973344\n",
      "\n",
      "CD4 Tcells_CD127hi\n",
      "Plasma: 4.3275 PMA: 4.3475\n",
      "ttest_ind: 0.779181874194\n",
      "\n",
      "Basophils\n",
      "Plasma: 1.2065 PMA: 1.153\n",
      "ttest_ind: 0.124360203148\n",
      "\n",
      "Neutrophils\n",
      "Plasma: 0.144086021505 PMA: 0.134705882353\n",
      "ttest_ind: 0.39232866287\n",
      "\n",
      "CD4 Tcells_Tregs\n",
      "Plasma: 5.9005 PMA: 5.892\n",
      "ttest_ind: 0.909417227293\n",
      "\n"
     ]
    }
   ],
   "source": [
    "results = {}\n",
    "\n",
    "for inst_type in sampled_counts['plasma']:\n",
    "    \n",
    "    results[inst_type] = {}\n",
    "    \n",
    "    a = sampled_counts['plasma'][inst_type]\n",
    "    b = sampled_counts['pma'][inst_type]\n",
    "\n",
    "    a_mean = a.mean()\n",
    "    b_mean = b.mean()\n",
    "    \n",
    "    a_std = a.std()\n",
    "    b_std = b.std()    \n",
    "    \n",
    "    results[inst_type]['plasma_mean'] = a_mean\n",
    "    results[inst_type]['pma_mean'] = b_mean   \n",
    "\n",
    "    results[inst_type]['plasma_std'] = a_std\n",
    "    results[inst_type]['pma_std'] = b_std      \n",
    "    \n",
    "    print(inst_type)\n",
    "    print('Plasma: ' + str(a_mean) + ' PMA: ' + str(b_mean))\n",
    "\n",
    "    t, p = ttest_ind(a, b, equal_var=False)\n",
    "    \n",
    "    results[inst_type]['ttest_t'] = t\n",
    "    results[inst_type]['ttest_pval'] = p\n",
    "\n",
    "    print('ttest_ind: ' + str(p) + '\\n')"
   ]
  },
  {
   "cell_type": "code",
   "execution_count": 147,
   "metadata": {},
   "outputs": [],
   "source": [
    "# results"
   ]
  },
  {
   "cell_type": "code",
   "execution_count": 148,
   "metadata": {
    "collapsed": true
   },
   "outputs": [],
   "source": [
    "# these are two functions that save and load data in json\n",
    "\n",
    "# save dict to json\n",
    "def save_to_json(inst_dict, filename, indent='no-indent'):\n",
    "  import json\n",
    "\n",
    "  # save as a json\n",
    "  fw = open(filename, 'w')\n",
    "  if indent == 'indent':\n",
    "    fw.write( json.dumps(inst_dict, indent=2) )\n",
    "  else:\n",
    "    fw.write( json.dumps(inst_dict) )\n",
    "  fw.close()\n",
    "\n",
    "\n",
    "# load json to dict\n",
    "def load_to_dict( filename ):\n",
    "  import json\n",
    "  # load\n",
    "  f = open(filename,'r')\n",
    "  inst_dict = json.load(f)\n",
    "  f.close()\n",
    "  return inst_dict\n"
   ]
  },
  {
   "cell_type": "code",
   "execution_count": 149,
   "metadata": {},
   "outputs": [],
   "source": [
    "save_to_json(results, 'cell_type_D3_graph/PMA_cell_type_results.json')"
   ]
  },
  {
   "cell_type": "code",
   "execution_count": 150,
   "metadata": {},
   "outputs": [
    {
     "data": {
      "text/plain": [
       "{'B cells': {'plasma_mean': 6.2155000000000005,\n",
       "  'plasma_std': 0.5691087330203255,\n",
       "  'pma_mean': 6.2149999999999999,\n",
       "  'pma_std': 0.47299577165129081,\n",
       "  'ttest_pval': 0.9946429944637516,\n",
       "  'ttest_t': 0.0067228282389649565},\n",
       " 'Basophils': {'plasma_mean': 1.2064999999999999,\n",
       "  'plasma_std': 0.24006821947104956,\n",
       "  'pma_mean': 1.153,\n",
       "  'pma_std': 0.24767115294276806,\n",
       "  'ttest_pval': 0.12436020314846763,\n",
       "  'ttest_t': 1.5432838236493891},\n",
       " 'CD14hi monocytes': {'plasma_mean': 8.5359999999999996,\n",
       "  'plasma_std': 0.60357601012631368,\n",
       "  'pma_mean': 8.4490000000000016,\n",
       "  'pma_std': 0.65905159130374613,\n",
       "  'ttest_pval': 0.33392075076704331,\n",
       "  'ttest_t': 0.96862971125326569},\n",
       " 'CD14low monocytes': {'plasma_mean': 0.54449999999999998,\n",
       "  'plasma_std': 0.18985454958994266,\n",
       "  'pma_mean': 0.56400000000000017,\n",
       "  'pma_std': 0.19378854455307723,\n",
       "  'ttest_pval': 0.47533897334374109,\n",
       "  'ttest_t': -0.71518268187146583},\n",
       " 'CD1c DCs': {'plasma_mean': 2.3209999999999997,\n",
       "  'plasma_std': 0.28505964288197655,\n",
       "  'pma_mean': 2.3530000000000002,\n",
       "  'pma_std': 0.3327777035800325,\n",
       "  'ttest_pval': 0.46832729880794355,\n",
       "  'ttest_t': -0.72663608498340881},\n",
       " 'CD4 Tcells': {'plasma_mean': 23.630500000000001,\n",
       "  'plasma_std': 0.98290119035435042,\n",
       "  'pma_mean': 23.683499999999999,\n",
       "  'pma_std': 0.92352734123035018,\n",
       "  'ttest_pval': 0.69621882858611794,\n",
       "  'ttest_t': -0.39100059277883159},\n",
       " 'CD4 Tcells+CD27hi': {'plasma_mean': 10.908500000000002,\n",
       "  'plasma_std': 0.6505019215959319,\n",
       "  'pma_mean': 10.909500000000001,\n",
       "  'pma_std': 0.63532255587221198,\n",
       "  'ttest_pval': 0.99128026388562707,\n",
       "  'ttest_t': -0.010942603077663189},\n",
       " 'CD4 Tcells_CD127hi': {'plasma_mean': 4.3274999999999997,\n",
       "  'plasma_std': 0.51847733798113105,\n",
       "  'pma_mean': 4.3474999999999993,\n",
       "  'pma_std': 0.4832377779106265,\n",
       "  'ttest_pval': 0.77918187419417717,\n",
       "  'ttest_t': -0.28076941234915209},\n",
       " 'CD4 Tcells_CD161hi': {'plasma_mean': 3.6074999999999999,\n",
       "  'plasma_std': 0.40008592827041534,\n",
       "  'pma_mean': 3.6070000000000007,\n",
       "  'pma_std': 0.41827144296497215,\n",
       "  'ttest_pval': 0.993150834628171,\n",
       "  'ttest_t': 0.0085951289475113667},\n",
       " 'CD4 Tcells_Tregs': {'plasma_mean': 5.900500000000001,\n",
       "  'plasma_std': 0.53025913476337216,\n",
       "  'pma_mean': 5.8920000000000003,\n",
       "  'pma_std': 0.51960177058974699,\n",
       "  'ttest_pval': 0.9094172272929586,\n",
       "  'ttest_t': 0.11391931943773979},\n",
       " 'CD8 Tcells': {'plasma_mean': 13.881499999999996,\n",
       "  'plasma_std': 0.76552775913091453,\n",
       "  'pma_mean': 14.015499999999999,\n",
       "  'pma_std': 0.93551309451017284,\n",
       "  'ttest_pval': 0.27142992534307875,\n",
       "  'ttest_t': -1.1029732080166701},\n",
       " 'NK cells_CD16hi': {'plasma_mean': 7.8260000000000005,\n",
       "  'plasma_std': 0.58315864050873845,\n",
       "  'pma_mean': 7.857000000000002,\n",
       "  'pma_std': 0.6678704964287614,\n",
       "  'ttest_pval': 0.72830415069360499,\n",
       "  'ttest_t': -0.34788322482433537},\n",
       " 'NK cells_CD16hi_CD57hi': {'plasma_mean': 5.9634999999999989,\n",
       "  'plasma_std': 0.4963292757837281,\n",
       "  'pma_mean': 5.8535000000000004,\n",
       "  'pma_std': 0.46396416887514058,\n",
       "  'ttest_pval': 0.10879668743385608,\n",
       "  'ttest_t': 1.6109230477080985},\n",
       " 'NK cells_CD56hi': {'plasma_mean': 1.0850000000000002,\n",
       "  'plasma_std': 0.21017849556983706,\n",
       "  'pma_mean': 1.1085,\n",
       "  'pma_std': 0.20591928030177264,\n",
       "  'ttest_pval': 0.42776215324931544,\n",
       "  'ttest_t': -0.79466175493956492},\n",
       " 'Neutrophils': {'plasma_mean': 0.14408602150537633,\n",
       "  'plasma_std': 0.078579273843170414,\n",
       "  'pma_mean': 0.1347058823529412,\n",
       "  'pma_std': 0.06643153459711236,\n",
       "  'ttest_pval': 0.39232866287035206,\n",
       "  'ttest_t': 0.85752345287108167},\n",
       " 'Undefined': {'plasma_mean': 3.9119999999999999,\n",
       "  'plasma_std': 0.39775117850233954,\n",
       "  'pma_mean': 3.8774999999999995,\n",
       "  'pma_std': 0.3715087482146282,\n",
       "  'ttest_pval': 0.52896434767774692,\n",
       "  'ttest_t': 0.63070463348698713}}"
      ]
     },
     "execution_count": 150,
     "metadata": {},
     "output_type": "execute_result"
    }
   ],
   "source": [
    "results"
   ]
  },
  {
   "cell_type": "code",
   "execution_count": null,
   "metadata": {
    "collapsed": true
   },
   "outputs": [],
   "source": []
  },
  {
   "cell_type": "code",
   "execution_count": null,
   "metadata": {
    "collapsed": true
   },
   "outputs": [],
   "source": []
  }
 ],
 "metadata": {
  "kernelspec": {
   "display_name": "Python [Root]",
   "language": "python",
   "name": "Python [Root]"
  },
  "language_info": {
   "codemirror_mode": {
    "name": "ipython",
    "version": 2
   },
   "file_extension": ".py",
   "mimetype": "text/x-python",
   "name": "python",
   "nbconvert_exporter": "python",
   "pygments_lexer": "ipython2",
   "version": "2.7.12"
  }
 },
 "nbformat": 4,
 "nbformat_minor": 2
}
